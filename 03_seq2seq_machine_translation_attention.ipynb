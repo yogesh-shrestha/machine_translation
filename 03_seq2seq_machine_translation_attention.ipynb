{
 "cells": [
  {
   "cell_type": "markdown",
   "id": "f2477394",
   "metadata": {},
   "source": [
    "## Seq2Se2: Neural Machine Translation with Attention"
   ]
  },
  {
   "cell_type": "markdown",
   "id": "aabcbd7b",
   "metadata": {},
   "source": [
    "### 1. Preparing Data"
   ]
  },
  {
   "cell_type": "code",
   "execution_count": 1,
   "id": "21d1c2e5",
   "metadata": {},
   "outputs": [],
   "source": [
    "import torch\n",
    "import torchtext\n",
    "import torch.nn as nn\n",
    "from torchtext.datasets import Multi30k\n",
    "from torchtext.data.utils import get_tokenizer\n",
    "from torchtext.vocab import build_vocab_from_iterator\n",
    "from torch.utils.data import DataLoader\n",
    "from torch.nn.utils.rnn import pad_sequence\n",
    "from torchtext.data import functional\n",
    "from torch import optim\n",
    "import torch.nn.functional as F\n",
    "from tqdm import tqdm\n",
    "import sys\n",
    "import random\n",
    "import spacy"
   ]
  },
  {
   "cell_type": "code",
   "execution_count": 2,
   "id": "f9d5d3cb",
   "metadata": {},
   "outputs": [],
   "source": [
    "de_tokenizer = get_tokenizer('spacy', 'de_core_news_sm')\n",
    "en_tokenizer = get_tokenizer('spacy', 'en_core_web_sm')\n",
    "\n",
    "def de_yield_tokens(train_iter):\n",
    "    for de_text, _ in train_iter:\n",
    "        yield de_tokenizer(de_text[:-1].lower())\n",
    "        \n",
    "def en_yield_tokens(train_iter):\n",
    "    for _, en_text in train_iter:\n",
    "        yield en_tokenizer(en_text[:-1].lower())\n",
    "        \n",
    "special_tokens = [\"<unk>\", \"<pad>\", \"<sos>\", \"<eos>\"]\n",
    "\n",
    "train_iter = Multi30k(split=(\"train\"))\n",
    "source_vocab = build_vocab_from_iterator(de_yield_tokens(train_iter), \n",
    "                                         min_freq = 1,\n",
    "                                         specials = special_tokens)\n",
    "source_vocab.set_default_index(source_vocab[\"<unk>\"])\n",
    "\n",
    "train_iter = Multi30k(split=(\"train\"))\n",
    "target_vocab = build_vocab_from_iterator(en_yield_tokens(train_iter),\n",
    "                                        min_freq = 1,\n",
    "                                        specials = special_tokens)\n",
    "target_vocab.set_default_index(target_vocab[\"<unk>\"])"
   ]
  },
  {
   "cell_type": "code",
   "execution_count": 3,
   "id": "fb4d7269",
   "metadata": {},
   "outputs": [],
   "source": [
    "# Load data\n",
    "train_iter, valid_iter, test_iter = Multi30k()\n",
    "\n",
    "en_text_pipeline = lambda x:  target_vocab([\"<sos>\"] + en_tokenizer(x)[:-1] + [\"<eos>\"]) \n",
    "de_text_pipeline = lambda x: source_vocab([\"<sos>\"] + de_tokenizer(x)[:-1] + [\"<eos>\"])\n",
    "\n",
    "BATCH_SIZE = 100\n",
    "\n",
    "def collate_batch_input(batch):\n",
    "    source_list, target_list = [], []\n",
    "    for source_text, target_text in batch:  \n",
    "        text_seq = de_text_pipeline(source_text.lower()) \n",
    "        source_list.append(torch.tensor(text_seq, dtype=torch.int64))\n",
    "        text_seq = en_text_pipeline(target_text.lower())\n",
    "        target_list.append(torch.tensor(text_seq[:-1], dtype=torch.int64))\n",
    "               \n",
    "    source_tensor = pad_sequence(source_list, batch_first=True, padding_value=source_vocab[\"<pad>\"])\n",
    "    target_tensor = pad_sequence(target_list, batch_first=True, padding_value=source_vocab[\"<pad>\"])\n",
    "    \n",
    "    return source_tensor, target_tensor, \n",
    "\n",
    "\n",
    "train_dataset = functional.to_map_style_dataset(train_iter)\n",
    "valid_dataset = functional.to_map_style_dataset(valid_iter)\n",
    "test_dataset = functional.to_map_style_dataset(test_iter)\n",
    "\n",
    "train_loader = DataLoader(train_dataset, batch_size = BATCH_SIZE,\n",
    "                          shuffle = True, collate_fn = collate_batch_input)\n",
    "valid_loader = DataLoader(valid_dataset, batch_size = BATCH_SIZE,\n",
    "                          shuffle=False, collate_fn = collate_batch_input)\n",
    "test_loader = DataLoader(test_dataset, batch_size = BATCH_SIZE,\n",
    "                          shuffle=False, collate_fn = collate_batch_input)"
   ]
  },
  {
   "cell_type": "markdown",
   "id": "2f36ae0c",
   "metadata": {},
   "source": [
    "### 2. Define Model"
   ]
  },
  {
   "cell_type": "markdown",
   "id": "dca1b960",
   "metadata": {},
   "source": [
    "#### Encoder\n",
    "\n",
    "<img src=\"img/seq2seq8.png\"/>"
   ]
  },
  {
   "cell_type": "code",
   "execution_count": 4,
   "id": "31fb249c",
   "metadata": {},
   "outputs": [],
   "source": [
    "class Encoder(nn.Module):\n",
    "    def __init__(self, input_dim, embed_dim, enc_hidden_dim, dec_hidden_dim, pad_index):\n",
    "        super(Encoder, self).__init__()\n",
    "        self.embedding = nn.Embedding(input_dim, embed_dim, padding_idx=pad_index)\n",
    "        self.gru = nn.GRU(embed_dim, enc_hidden_dim, bidirectional=True, batch_first=True)\n",
    "        self.fc = nn.Linear(enc_hidden_dim * 2, dec_hidden_dim)\n",
    "        \n",
    "    def forward(self, src):\n",
    "        # src = [batch_size, src_len]\n",
    "        \n",
    "        embedded = self.embedding(src)\n",
    "        # embedded = [batch_size, src_len, embed_dim]\n",
    "        \n",
    "        outputs, hidden = self.gru(embedded)\n",
    "        # outputs = [batch_size, src_len, 2 * enc_hidden_dim] : bidirectional\n",
    "        # hidden = [2, batch_size, enc_hidden_dim]\n",
    "        \n",
    "        hidden = torch.tanh(self.fc(torch.cat((hidden[-2,:,:], hidden[-1,:,:]), dim = 1)))\n",
    "        # hidden = [batch_size, dec_hidden_dim]\n",
    "        \n",
    "        return outputs, hidden"
   ]
  },
  {
   "cell_type": "markdown",
   "id": "187f1495",
   "metadata": {},
   "source": [
    "#### Attention\n",
    "\n",
    "<img src=\"img/seq2seq9.png\"/>"
   ]
  },
  {
   "cell_type": "code",
   "execution_count": 5,
   "id": "7ab76c58",
   "metadata": {},
   "outputs": [],
   "source": [
    "class Attention(nn.Module):\n",
    "    def __init__(self, enc_hidden_dim, dec_hidden_dim):\n",
    "        super(Attention, self).__init__()\n",
    "        self.attn = nn.Linear((enc_hidden_dim * 2) + dec_hidden_dim, dec_hidden_dim)\n",
    "        self.v = nn.Linear(dec_hidden_dim, 1, bias=False)\n",
    "        \n",
    "    def forward(self, hidden, encoder_outputs):\n",
    "        \n",
    "        # hidden = [batch_size, dec_hidden_dim]\n",
    "        # encoder_outputs = [batch_size, src_len, enc_hidden_dim * 2]\n",
    "        \n",
    "        batch_size = encoder_outputs.shape[0]\n",
    "        src_len = encoder_outputs.shape[1]\n",
    "        \n",
    "        # repeat decoder hidden state src_len times\n",
    "        hidden = hidden.unsqueeze(1).repeat(1, src_len, 1)\n",
    "        # hidden = [batch_size, src_len, dec_hidden_dim]\n",
    "        \n",
    "        energy = torch.tanh(self.attn(torch.cat((hidden, encoder_outputs), dim=2)))\n",
    "        # energy = [batch, src_len, dec_hidden_dim]\n",
    "        \n",
    "        attention = self.v(energy).squeeze(2)\n",
    "        # attention = [batch_size, src_len]\n",
    "        \n",
    "        return F.softmax(attention, dim=1)"
   ]
  },
  {
   "cell_type": "markdown",
   "id": "10c7571f",
   "metadata": {},
   "source": [
    "#### Decoder\n",
    "\n",
    "<img src=\"img/seq2seq10.png\" />\n",
    "\n"
   ]
  },
  {
   "cell_type": "code",
   "execution_count": 6,
   "id": "1f36e441",
   "metadata": {},
   "outputs": [],
   "source": [
    "class Decoder(nn.Module):\n",
    "    def __init__(self, output_dim, embed_dim, enc_hidden_dim, dec_hidden_dim, pad_index, \n",
    "                 attention):\n",
    "        super(Decoder, self).__init__()\n",
    "        self.output_dim = output_dim\n",
    "        self.attention = attention\n",
    "        self.embedding = nn.Embedding(output_dim, embed_dim, padding_idx=pad_index)\n",
    "        self.gru = nn.GRU((enc_hidden_dim * 2) + embed_dim, dec_hidden_dim, batch_first=True)\n",
    "        self.fc = nn.Linear((enc_hidden_dim * 2) + dec_hidden_dim + embed_dim, output_dim)\n",
    "        \n",
    "    def forward(self, input, hidden, encoder_outputs):\n",
    "        # input = [batch_size]\n",
    "        # hidden = [batch_size, dec_hidden_dim]\n",
    "        # encoder_outputs = [batch_size, src_len, enc_hidden_dim * 2]\n",
    "        \n",
    "        input = input.unsqueeze(1)\n",
    "        # input = [batch_size, 1]\n",
    "        \n",
    "        embedded = self.embedding(input)\n",
    "        # embedded = [batch_size, 1, embed_dim]\n",
    "        \n",
    "        a = self.attention(hidden, encoder_outputs)\n",
    "        # a = [batch_size, src_len]\n",
    "        a = a.unsqueeze(1)\n",
    "        # a = [batch_size, 1, src_len]\n",
    "        \n",
    "        weighted = torch.bmm(a, encoder_outputs)\n",
    "        # weighted = [batch_size, 1, enc_hidden_dim * 2]\n",
    "                \n",
    "        gru_input = torch.cat((embedded, weighted), dim = 2)\n",
    "        # gru_input = [batch_size, 1, enc_hidden_dim * 2 + embed_dim]\n",
    "        \n",
    "        output, hidden = self.gru(gru_input, hidden.unsqueeze(0))\n",
    "        # output = [batch_size, 1, dec_hidden_dim]\n",
    "        # hidden = [1, batch_size, dec_hidden_size]\n",
    "                \n",
    "        assert (output.permute(1,0,2) == hidden).all()\n",
    "        \n",
    "        embedded = embedded.squeeze(1)\n",
    "        # embedded = [batch_size, embed_dim]        \n",
    "        output = output.squeeze(1)\n",
    "        # weighted = [batch_size, enc_hidden_dim]\n",
    "        weighted = weighted.squeeze(1)\n",
    "        # weighted = [batch_size, enc_hidden_dim*2]\n",
    "        \n",
    "        prediction = self.fc(torch.cat((output, weighted, embedded), dim = 1))\n",
    "        # prediction = [batch_size, output_dim]\n",
    "        \n",
    "        return prediction, hidden.squeeze(0)"
   ]
  },
  {
   "cell_type": "markdown",
   "id": "0de067b5",
   "metadata": {},
   "source": [
    "#### Seq2Seq"
   ]
  },
  {
   "cell_type": "code",
   "execution_count": 7,
   "id": "897ae330",
   "metadata": {},
   "outputs": [],
   "source": [
    "class Seq2Seq(nn.Module):\n",
    "    def __init__(self, encoder, decoder):\n",
    "        super(Seq2Seq, self).__init__()\n",
    "        self.encoder = encoder\n",
    "        self.decoder = decoder\n",
    "        \n",
    "    def forward(self, src, trg, teacher_force_ratio = 0.5):\n",
    "        batch_size = src.shape[0]\n",
    "        trg_len = trg.shape[1]\n",
    "        trg_vocab_size = self.decoder.output_dim\n",
    "        \n",
    "        # tensor to store decoder outputs\n",
    "        outputs = torch.zeros(batch_size, trg_len, trg_vocab_size)\n",
    "        \n",
    "        encoder_outputs, hidden = self.encoder(src)\n",
    "                \n",
    "        input = trg[:,0]\n",
    "        \n",
    "        for t in range(1, trg_len):\n",
    "            output, hidden = self.decoder(input, hidden, encoder_outputs)\n",
    "            output = output.unsqueeze(1)\n",
    "            outputs[:, t, :] = output[:, 0, :]\n",
    "            best_guess = output.argmax(2).squeeze(1)\n",
    "            input = trg[:,t] if random.random() < teacher_force_ratio else best_guess\n",
    "            \n",
    "        return outputs"
   ]
  },
  {
   "cell_type": "code",
   "execution_count": 8,
   "id": "7493158c",
   "metadata": {},
   "outputs": [],
   "source": [
    "INPUT_DIM = len(source_vocab)\n",
    "OUTPUT_DIM = len(target_vocab)\n",
    "EMBED_DIM = 50\n",
    "ENC_HIDDEN_DIM = 60\n",
    "DEC_HIDDEN_DIM = 60\n",
    "\n",
    "src_pad_idx = source_vocab[\"<pad>\"]\n",
    "trg_pad_idx = target_vocab[\"<pad>\"]\n",
    "\n",
    "attention = Attention(ENC_HIDDEN_DIM, DEC_HIDDEN_DIM)\n",
    "enc = Encoder(INPUT_DIM, EMBED_DIM, ENC_HIDDEN_DIM, DEC_HIDDEN_DIM, src_pad_idx)\n",
    "dec = Decoder(OUTPUT_DIM, EMBED_DIM, ENC_HIDDEN_DIM, DEC_HIDDEN_DIM, trg_pad_idx, attention)\n",
    "\n",
    "model = Seq2Seq(enc, dec)"
   ]
  },
  {
   "cell_type": "code",
   "execution_count": 9,
   "id": "8f48f3c9",
   "metadata": {},
   "outputs": [
    {
     "name": "stdout",
     "output_type": "stream",
     "text": [
      "The model has 3,786,105 trainable parameters\n"
     ]
    }
   ],
   "source": [
    "# Calculate the number of trainable parameters in the model\n",
    "def count_parameters(model):\n",
    "    return sum(p.numel() for p in model.parameters() if p.requires_grad)\n",
    "\n",
    "print(f'The model has {count_parameters(model):,} trainable parameters')"
   ]
  },
  {
   "cell_type": "code",
   "execution_count": 10,
   "id": "86661bdb",
   "metadata": {},
   "outputs": [],
   "source": [
    "def train(model, dataloader):\n",
    "    model.train()\n",
    "    epoch_loss = 0\n",
    "    \n",
    "    for src, trg in tqdm(dataloader, desc='training...', file=sys.stdout):\n",
    "        optimizer.zero_grad()\n",
    "        \n",
    "        output = model(src, trg)\n",
    "        \n",
    "        output_dim = output.shape[-1]\n",
    "\n",
    "        output = output.reshape(-1, output_dim)\n",
    "        trg = trg.reshape(-1)\n",
    "        \n",
    "        loss = criterion(output, trg)\n",
    "        \n",
    "        loss.backward()\n",
    "\n",
    "        torch.nn.utils.clip_grad_norm_(model.parameters(), 1.0)\n",
    "\n",
    "        optimizer.step()\n",
    "\n",
    "        epoch_loss += loss.item()\n",
    "    \n",
    "    return epoch_loss/len(dataloader)\n",
    "\n",
    "\n",
    "def evaluate(model, dataloader):\n",
    "    model.eval()\n",
    "    epoch_loss = 0\n",
    "    \n",
    "    with torch.no_grad():\n",
    "        for src, trg in dataloader:\n",
    "            output = model(src, trg)\n",
    "            output_dim = output.shape[-1]\n",
    "            output = output.reshape(-1, output_dim)\n",
    "            trg = trg.reshape(-1)\n",
    "            loss = criterion(output, trg)\n",
    "            epoch_loss += loss.item()\n",
    "    return epoch_loss/len(dataloader)  "
   ]
  },
  {
   "cell_type": "code",
   "execution_count": 23,
   "id": "ddba0d66",
   "metadata": {},
   "outputs": [
    {
     "name": "stdout",
     "output_type": "stream",
     "text": [
      "training...: 100%|███████████████████████████████████████████████████████████████████| 290/290 [16:59<00:00,  3.52s/it]\n",
      "| Epoch: 1/10 | Train Loss: 4.826547466475388 | Val Loss: 4.3754730658097705\n",
      "training...: 100%|███████████████████████████████████████████████████████████████████| 290/290 [17:27<00:00,  3.61s/it]\n",
      "| Epoch: 2/10 | Train Loss: 4.2147707651401385 | Val Loss: 4.046748529780995\n",
      "training...: 100%|███████████████████████████████████████████████████████████████████| 290/290 [17:48<00:00,  3.68s/it]\n",
      "| Epoch: 3/10 | Train Loss: 3.8770462669175245 | Val Loss: 3.8506043390794233\n",
      "training...: 100%|███████████████████████████████████████████████████████████████████| 290/290 [17:33<00:00,  3.63s/it]\n",
      "| Epoch: 4/10 | Train Loss: 3.634876620358434 | Val Loss: 3.7206129377538506\n",
      "training...: 100%|███████████████████████████████████████████████████████████████████| 290/290 [17:38<00:00,  3.65s/it]\n",
      "| Epoch: 5/10 | Train Loss: 3.4526881069972597 | Val Loss: 3.669716639952226\n",
      "training...: 100%|███████████████████████████████████████████████████████████████████| 290/290 [17:00<00:00,  3.52s/it]\n",
      "| Epoch: 6/10 | Train Loss: 3.3019122164824912 | Val Loss: 3.5706408457322554\n",
      "training...: 100%|███████████████████████████████████████████████████████████████████| 290/290 [17:40<00:00,  3.66s/it]\n",
      "| Epoch: 7/10 | Train Loss: 3.169155775267502 | Val Loss: 3.5499426451596348\n",
      "training...: 100%|███████████████████████████████████████████████████████████████████| 290/290 [17:38<00:00,  3.65s/it]\n",
      "| Epoch: 8/10 | Train Loss: 3.0497779032279704 | Val Loss: 3.4884543202140113\n",
      "training...: 100%|███████████████████████████████████████████████████████████████████| 290/290 [18:04<00:00,  3.74s/it]\n",
      "| Epoch: 9/10 | Train Loss: 2.9407841337138207 | Val Loss: 3.5529379627921363\n",
      "training...: 100%|███████████████████████████████████████████████████████████████████| 290/290 [17:10<00:00,  3.55s/it]\n",
      "| Epoch: 10/10 | Train Loss: 2.8623162582002837 | Val Loss: 3.479119300842285\n",
      "============================================================\n",
      "3.5149851083755492\n"
     ]
    }
   ],
   "source": [
    "N_EPOCHS = 10\n",
    "\n",
    "optimizer = optim.Adam(model.parameters())\n",
    "criterion = nn.CrossEntropyLoss(ignore_index = trg_pad_idx)\n",
    "\n",
    "for epoch in range(1, N_EPOCHS+1):\n",
    "    train_loss = train(model, train_loader)\n",
    "    val_loss = evaluate(model, valid_loader)\n",
    "    print(f\"| Epoch: {epoch}/{N_EPOCHS} | Train Loss: {train_loss} | Val Loss: {val_loss}\")\n",
    "    \n",
    "eval_loss = evaluate(model, test_loader)\n",
    "print(\"=\"*60)\n",
    "print(eval_loss)    \n",
    "\n",
    "torch.save(model, \"ml_model_attention.pt\")"
   ]
  },
  {
   "cell_type": "code",
   "execution_count": 12,
   "id": "33ea63c1",
   "metadata": {},
   "outputs": [],
   "source": [
    "# model = torch.load(\"ml_model_attention.pt\")"
   ]
  },
  {
   "cell_type": "code",
   "execution_count": 24,
   "id": "44484d1e",
   "metadata": {},
   "outputs": [],
   "source": [
    "def translate_sentence(model, sentence):\n",
    "    model.eval()\n",
    "    tokens = [\"<sos>\"] + de_tokenizer(sentence.lower()) + [\"<eos>\"]\n",
    "    sequence = source_vocab(tokens)\n",
    "    sent_tensor = torch.LongTensor(sequence).unsqueeze(0)\n",
    "    print(sent_tensor)\n",
    "    \n",
    "    with torch.no_grad():\n",
    "        encoder_outputs, hidden = model.encoder(sent_tensor)\n",
    "        \n",
    "    outputs = target_vocab([\"<sos>\"])\n",
    "        \n",
    "    for _ in range(len(sequence)):\n",
    "        previous_word = torch.LongTensor([outputs[-1]])\n",
    "        with torch.no_grad():\n",
    "            output, hidden = model.decoder(previous_word, hidden, encoder_outputs)\n",
    "            best_guess = output.argmax(1).item()\n",
    "            outputs.append(best_guess)\n",
    "            if output.argmax(1).item() == source_vocab[\"<eos>\"]:\n",
    "                break\n",
    "                \n",
    "    tranlated_sent = target_vocab.lookup_tokens(outputs)\n",
    "    return ' '.join(tranlated_sent[1:])\n"
   ]
  },
  {
   "cell_type": "code",
   "execution_count": 35,
   "id": "a1d3f7e9",
   "metadata": {},
   "outputs": [
    {
     "name": "stdout",
     "output_type": "stream",
     "text": [
      "tensor([[   2,    5,   66,   25,   11,    6, 3178,    9,   39,  690,   12,   24,\n",
      "          649,   31,   10,   75,  238,    4,    3]])\n",
      "a little girl with a tiara is sitting on her lap and sitting and something . . . .\n"
     ]
    }
   ],
   "source": [
    "sentence = 'Ein kleines Mädchen mit einem Diadem, das jemandem auf dem Schoß sitzt und etwas isst.'\n",
    "print(translate_sentence(model, sentence))"
   ]
  },
  {
   "cell_type": "code",
   "execution_count": 34,
   "id": "66e081c0",
   "metadata": {},
   "outputs": [
    {
     "data": {
      "text/plain": [
       "('Ein kleines Mädchen mit einem Diadem, das jemandem auf dem Schoß sitzt und etwas isst.\\n',\n",
       " 'A little girl with a tiara eating in someones lap.\\n')"
      ]
     },
     "execution_count": 34,
     "metadata": {},
     "output_type": "execute_result"
    }
   ],
   "source": [
    "train_dataset[650]"
   ]
  },
  {
   "cell_type": "markdown",
   "id": "f3f5a4a6",
   "metadata": {},
   "source": [
    "#### Reference\n",
    "1. https://github.com/bentrevett"
   ]
  }
 ],
 "metadata": {
  "kernelspec": {
   "display_name": "Python 3",
   "language": "python",
   "name": "python3"
  },
  "language_info": {
   "codemirror_mode": {
    "name": "ipython",
    "version": 3
   },
   "file_extension": ".py",
   "mimetype": "text/x-python",
   "name": "python",
   "nbconvert_exporter": "python",
   "pygments_lexer": "ipython3",
   "version": "3.8.8"
  }
 },
 "nbformat": 4,
 "nbformat_minor": 5
}
