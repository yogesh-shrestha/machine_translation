{
 "cells": [
  {
   "cell_type": "markdown",
   "id": "b4753d1c",
   "metadata": {},
   "source": [
    "## Basic Seq2Seq Model: Machine Translation"
   ]
  },
  {
   "cell_type": "markdown",
   "id": "745806ac",
   "metadata": {},
   "source": [
    "<img src=\"img/seq2seq1.png\"/>"
   ]
  },
  {
   "cell_type": "code",
   "execution_count": 1,
   "id": "f3f014b8",
   "metadata": {},
   "outputs": [],
   "source": [
    "import torch\n",
    "import torchtext\n",
    "import torch.nn as nn\n",
    "from torchtext.datasets import Multi30k\n",
    "from torchtext.data.utils import get_tokenizer\n",
    "from torchtext.vocab import build_vocab_from_iterator\n",
    "from torch.utils.data import DataLoader\n",
    "from torch.nn.utils.rnn import pad_sequence\n",
    "from torchtext.data import functional\n",
    "from torch import optim\n",
    "from tqdm import tqdm\n",
    "import sys\n",
    "import random"
   ]
  },
  {
   "cell_type": "markdown",
   "id": "7dc1c479",
   "metadata": {},
   "source": [
    "### 1. Prepare Data\n",
    "\n",
    "#### Build Vocabulary for source and target languages"
   ]
  },
  {
   "cell_type": "code",
   "execution_count": 2,
   "id": "d2551b3a",
   "metadata": {},
   "outputs": [],
   "source": [
    "de_tokenizer = get_tokenizer('spacy', 'de_core_news_sm')\n",
    "en_tokenizer = get_tokenizer('spacy', 'en_core_web_sm')\n",
    "\n",
    "def de_yield_tokens(train_iter):\n",
    "    for de_text, _ in train_iter:\n",
    "        yield de_tokenizer(de_text[:-1].lower())\n",
    "        \n",
    "def en_yield_tokens(train_iter):\n",
    "    for _, en_text in train_iter:\n",
    "        yield en_tokenizer(en_text[:-1].lower())\n",
    "        \n",
    "special_tokens = [\"<unk>\", \"<pad>\", \"sos\", \"eos\"]\n",
    "\n",
    "train_iter = Multi30k(split=(\"train\"))\n",
    "source_vocab = build_vocab_from_iterator(de_yield_tokens(train_iter), \n",
    "                                         min_freq = 1,\n",
    "                                         specials = special_tokens)\n",
    "source_vocab.set_default_index(source_vocab[\"<unk>\"])\n",
    "\n",
    "train_iter = Multi30k(split=(\"train\"))\n",
    "target_vocab = build_vocab_from_iterator(en_yield_tokens(train_iter),\n",
    "                                        min_freq = 1,\n",
    "                                        specials = special_tokens)\n",
    "target_vocab.set_default_index(target_vocab[\"<unk>\"])"
   ]
  },
  {
   "cell_type": "markdown",
   "id": "91d05dce",
   "metadata": {},
   "source": [
    "#### Build Dataloader"
   ]
  },
  {
   "cell_type": "code",
   "execution_count": 3,
   "id": "56f0d976",
   "metadata": {},
   "outputs": [],
   "source": [
    "# Load data\n",
    "train_iter, valid_iter, test_iter = Multi30k()\n",
    "\n",
    "en_text_pipeline = lambda x:  target_vocab([\"sos\"] + en_tokenizer(x)[:-1] + [\"eos\"]) \n",
    "de_text_pipeline = lambda x: source_vocab([\"sos\"] + de_tokenizer(x)[:-1] + [\"eos\"])\n",
    "\n",
    "BATCH_SIZE = 100\n",
    "\n",
    "def collate_batch_input(batch):\n",
    "    source_list, target_list = [], []\n",
    "    for source_text, target_text in batch:  \n",
    "        text_seq = de_text_pipeline(source_text.lower()) \n",
    "        source_list.append(torch.tensor(text_seq, dtype=torch.int64))\n",
    "        text_seq = en_text_pipeline(target_text.lower())\n",
    "        target_list.append(torch.tensor(text_seq[:-1], dtype=torch.int64))\n",
    "               \n",
    "    source_tensor = pad_sequence(source_list, batch_first=True, padding_value=source_vocab[\"<pad>\"])\n",
    "    target_tensor = pad_sequence(target_list, batch_first=True, padding_value=source_vocab[\"<pad>\"])\n",
    "    \n",
    "    return source_tensor, target_tensor, \n",
    "\n",
    "\n",
    "train_dataset = functional.to_map_style_dataset(train_iter)\n",
    "valid_dataset = functional.to_map_style_dataset(valid_iter)\n",
    "test_dataset = functional.to_map_style_dataset(test_iter)\n",
    "\n",
    "train_loader = DataLoader(train_dataset, batch_size = BATCH_SIZE,\n",
    "                          shuffle = True, collate_fn = collate_batch_input)\n",
    "valid_loader = DataLoader(valid_dataset, batch_size = BATCH_SIZE,\n",
    "                          shuffle=False, collate_fn = collate_batch_input)\n",
    "test_loader = DataLoader(test_dataset, batch_size = BATCH_SIZE,\n",
    "                          shuffle=False, collate_fn = collate_batch_input)"
   ]
  },
  {
   "cell_type": "markdown",
   "id": "dcc313b5",
   "metadata": {},
   "source": [
    "### 2. Define Model"
   ]
  },
  {
   "cell_type": "markdown",
   "id": "46d3f5f1",
   "metadata": {},
   "source": [
    "#### Encoder\n",
    "\n",
    "<img src=\"img/seq2seq2.png\"/>"
   ]
  },
  {
   "cell_type": "code",
   "execution_count": 4,
   "id": "8c410a8b",
   "metadata": {},
   "outputs": [],
   "source": [
    "class Encoder(nn.Module):\n",
    "    def __init__(self, input_dim, embed_dim, hidden_dim, pad_idx,\n",
    "                n_layers=1, dropout=0.5):\n",
    "        super(Encoder, self).__init__()\n",
    "        self.embed_dim = embed_dim\n",
    "        self.n_layers = n_layers\n",
    "        self.hidden_dim = hidden_dim\n",
    "        self.embedding = nn.Embedding(input_dim, embed_dim, padding_idx = pad_idx)\n",
    "        self.lstm = nn.LSTM(embed_dim, hidden_dim, n_layers, dropout=dropout, batch_first = True)\n",
    "        \n",
    "    def forward(self, src):\n",
    "        embedded = self.embedding(src)\n",
    "        output, (hidden, cell) = self.lstm(embedded)\n",
    "        return hidden, cell"
   ]
  },
  {
   "cell_type": "markdown",
   "id": "41842f79",
   "metadata": {},
   "source": [
    "#### Decoder\n",
    "\n",
    "<img src=\"img/seq2seq3.png\"/>"
   ]
  },
  {
   "cell_type": "code",
   "execution_count": 5,
   "id": "5363795a",
   "metadata": {},
   "outputs": [],
   "source": [
    "class Decoder(nn.Module):\n",
    "    def __init__(self, output_dim, embed_dim, hidden_dim, pad_idx,\n",
    "                n_layers=1, dropout=0.5):\n",
    "        super(Decoder, self).__init__()\n",
    "        self.output_dim = output_dim\n",
    "        self.embed_dim = embed_dim\n",
    "        self.n_layers= n_layers\n",
    "        self.hidden_dim = hidden_dim\n",
    "        self.embedding = nn.Embedding(output_dim, embed_dim, padding_idx=pad_idx)\n",
    "        self.lstm = nn.LSTM(embed_dim, hidden_dim, n_layers, dropout=dropout, batch_first=True)\n",
    "        self.fc = nn.Linear(hidden_dim, output_dim)\n",
    "        \n",
    "    def forward(self, input, last_hidden, last_cell):\n",
    "        input = input.unsqueeze(1)\n",
    "        embedded = self.embedding(input)\n",
    "        outputs, (hidden, cell) = self.lstm(embedded, (last_hidden, last_cell))\n",
    "        fc_out = self.fc(outputs.squeeze(0))\n",
    "        return fc_out, hidden, cell\n",
    "    "
   ]
  },
  {
   "cell_type": "markdown",
   "id": "4c3468bd",
   "metadata": {},
   "source": [
    "#### Seq2Seq\n",
    "\n",
    "<img src=\"img/seq2seq4.png\"/>"
   ]
  },
  {
   "cell_type": "code",
   "execution_count": 6,
   "id": "5badad8e",
   "metadata": {},
   "outputs": [],
   "source": [
    "class Seq2Seq(nn.Module):\n",
    "    def __init__(self, encoder, decoder):\n",
    "        super(Seq2Seq, self).__init__()\n",
    "        \n",
    "        self.encoder = encoder\n",
    "        self.decoder = decoder\n",
    "        \n",
    "        assert encoder.hidden_dim == decoder.hidden_dim, \\\n",
    "            \"Hidden dimensions of encoder and decoder must be equal!\"\n",
    "        assert encoder.n_layers == decoder.n_layers, \\\n",
    "            \"Number of layers of encoder and decoder must be equal!\"\n",
    "        \n",
    "    def forward(self, src, trg, teacher_force_ratio = 0.5):\n",
    "        batch_size = trg.shape[0]\n",
    "        trg_len = trg.shape[1]\n",
    "        trg_vocab_size = self.decoder.output_dim\n",
    "        \n",
    "        # tensor to store decoder outputs\n",
    "        outputs = torch.zeros(batch_size, trg_len, trg_vocab_size)\n",
    "\n",
    "        hidden, cell = self.encoder(src)\n",
    "        \n",
    "        input = trg[:,0]\n",
    "        \n",
    "        for t in range(1, trg_len):\n",
    "            output, hidden, cell = self.decoder(input, hidden, cell)\n",
    "            outputs[:, t, :] = output[:, 0, :]\n",
    "            best_guess = output.argmax(2).squeeze(1)\n",
    "            input = trg[:,t] if random.random() < teacher_force_ratio else best_guess\n",
    "            \n",
    "        return outputs"
   ]
  },
  {
   "cell_type": "code",
   "execution_count": 39,
   "id": "7088202b",
   "metadata": {},
   "outputs": [],
   "source": [
    "INPUT_DIM = len(source_vocab)\n",
    "OUTPUT_DIM = len(target_vocab)\n",
    "EMBED_DIM = 50\n",
    "HIDDEN_DIM = 60\n",
    "N_LAYERS = 1\n",
    "DROPOUT = 0.5\n",
    "src_pad_idx = source_vocab[\"<pad>\"]\n",
    "trg_pad_idx = target_vocab[\"<pad>\"]\n",
    "\n",
    "enc = Encoder(INPUT_DIM, EMBED_DIM, HIDDEN_DIM, src_pad_idx, N_LAYERS, DROPOUT)\n",
    "dec = Decoder(OUTPUT_DIM, EMBED_DIM, HIDDEN_DIM, trg_pad_idx, N_LAYERS, DROPOUT)\n",
    "\n",
    "model = Seq2Seq(enc, dec)"
   ]
  },
  {
   "cell_type": "code",
   "execution_count": 8,
   "id": "33cd6b1a",
   "metadata": {},
   "outputs": [
    {
     "name": "stdout",
     "output_type": "stream",
     "text": [
      "The model has 2,074,455 trainable parameters\n"
     ]
    }
   ],
   "source": [
    "# Calculate the number of trainable parameters in the model\n",
    "def count_parameters(model):\n",
    "    return sum(p.numel() for p in model.parameters() if p.requires_grad)\n",
    "\n",
    "print(f'The model has {count_parameters(model):,} trainable parameters')"
   ]
  },
  {
   "cell_type": "code",
   "execution_count": 9,
   "id": "826b69a7",
   "metadata": {},
   "outputs": [],
   "source": [
    "def train(model, dataloader):\n",
    "    model.train()\n",
    "    epoch_loss = 0\n",
    "    \n",
    "    for src, trg in tqdm(dataloader, desc='training...', file=sys.stdout):\n",
    "        optimizer.zero_grad()\n",
    "        \n",
    "        output = model(src, trg)\n",
    "        \n",
    "        output_dim = output.shape[-1]\n",
    "\n",
    "        output = output.reshape(-1, output_dim)\n",
    "        trg = trg.reshape(-1)\n",
    "        \n",
    "        loss = criterion(output, trg)\n",
    "        \n",
    "        loss.backward()\n",
    "\n",
    "        torch.nn.utils.clip_grad_norm_(model.parameters(), 1.0)\n",
    "\n",
    "        optimizer.step()\n",
    "\n",
    "        epoch_loss += loss.item()\n",
    "    \n",
    "    return epoch_loss/len(dataloader)\n",
    "\n",
    "\n",
    "def evaluate(model, dataloader):\n",
    "    model.eval()\n",
    "    epoch_loss = 0\n",
    "    \n",
    "    with torch.no_grad():\n",
    "        for src, trg in dataloader:\n",
    "            output = model(src, trg)\n",
    "            output_dim = output.shape[-1]\n",
    "            output = output.reshape(-1, output_dim)\n",
    "            trg = trg.reshape(-1)\n",
    "            loss = criterion(output, trg)\n",
    "            epoch_loss += loss.item()\n",
    "    return epoch_loss/len(dataloader)  "
   ]
  },
  {
   "cell_type": "code",
   "execution_count": 10,
   "id": "5687e893",
   "metadata": {},
   "outputs": [
    {
     "name": "stdout",
     "output_type": "stream",
     "text": [
      "training...: 100%|███████████████████████████████████████████████████████████████████| 290/290 [11:14<00:00,  2.32s/it]\n",
      "| Epoch: 1/10 | Train Loss: 6.262484307124697 | Val Loss: 5.749391685832631\n",
      "training...: 100%|███████████████████████████████████████████████████████████████████| 290/290 [09:45<00:00,  2.02s/it]\n",
      "| Epoch: 2/10 | Train Loss: 5.619860931922649 | Val Loss: 5.468654025684703\n",
      "training...: 100%|███████████████████████████████████████████████████████████████████| 290/290 [09:49<00:00,  2.03s/it]\n",
      "| Epoch: 3/10 | Train Loss: 5.356939120128237 | Val Loss: 5.252150795676491\n",
      "training...: 100%|███████████████████████████████████████████████████████████████████| 290/290 [09:52<00:00,  2.04s/it]\n",
      "| Epoch: 4/10 | Train Loss: 5.161158211477872 | Val Loss: 5.122170535000888\n",
      "training...: 100%|███████████████████████████████████████████████████████████████████| 290/290 [10:02<00:00,  2.08s/it]\n",
      "| Epoch: 5/10 | Train Loss: 5.0203484732529216 | Val Loss: 4.961549758911133\n",
      "training...: 100%|███████████████████████████████████████████████████████████████████| 290/290 [09:57<00:00,  2.06s/it]\n",
      "| Epoch: 6/10 | Train Loss: 4.897088874619582 | Val Loss: 4.858584880828857\n",
      "training...: 100%|███████████████████████████████████████████████████████████████████| 290/290 [09:55<00:00,  2.05s/it]\n",
      "| Epoch: 7/10 | Train Loss: 4.788471427457086 | Val Loss: 4.816940047524192\n",
      "training...: 100%|███████████████████████████████████████████████████████████████████| 290/290 [10:04<00:00,  2.08s/it]\n",
      "| Epoch: 8/10 | Train Loss: 4.692087689761458 | Val Loss: 4.750465046275746\n",
      "training...: 100%|███████████████████████████████████████████████████████████████████| 290/290 [09:53<00:00,  2.05s/it]\n",
      "| Epoch: 9/10 | Train Loss: 4.613203747519131 | Val Loss: 4.690103487534956\n",
      "training...: 100%|███████████████████████████████████████████████████████████████████| 290/290 [10:25<00:00,  2.16s/it]\n",
      "| Epoch: 10/10 | Train Loss: 4.557029449528661 | Val Loss: 4.611323746767911\n",
      "============================================================\n",
      "4.5891218185424805\n"
     ]
    }
   ],
   "source": [
    "N_EPOCHS = 10\n",
    "\n",
    "optimizer = optim.Adam(model.parameters())\n",
    "criterion = nn.CrossEntropyLoss(ignore_index = trg_pad_idx)\n",
    "\n",
    "for epoch in range(1, N_EPOCHS+1):\n",
    "    train_loss = train(model, train_loader)\n",
    "    val_loss = evaluate(model, valid_loader)\n",
    "    print(f\"| Epoch: {epoch}/{N_EPOCHS} | Train Loss: {train_loss} | Val Loss: {val_loss}\")\n",
    "    \n",
    "eval_loss = evaluate(model, test_loader)\n",
    "print(\"=\"*60)\n",
    "print(eval_loss)    \n",
    "\n",
    "torch.save(model, \"ml_model.pt\")"
   ]
  },
  {
   "cell_type": "code",
   "execution_count": 44,
   "id": "91de5386",
   "metadata": {},
   "outputs": [],
   "source": [
    "def translate_sentence(model, sentence):  \n",
    "    model.eval()\n",
    "    tokens = [\"sos\"] + de_tokenizer(sentence.lower()) + [\"eos\"]\n",
    "    sequence = source_vocab(tokens)\n",
    "    sent_tensor = torch.LongTensor(sequence).unsqueeze(0)\n",
    "    \n",
    "    with torch.no_grad():\n",
    "        hidden, cell = model.encoder(sent_tensor)\n",
    "        \n",
    "    outputs = target_vocab([\"sos\"])\n",
    "        \n",
    "    for _ in range(len(sequence)):\n",
    "        previous_word = torch.LongTensor([outputs[-1]])\n",
    "        \n",
    "        with torch.no_grad():\n",
    "            output, hidden, cell = model.decoder(previous_word, hidden, cell)\n",
    "            best_guess = output.argmax(1).item()\n",
    "            outputs.append(best_guess)\n",
    "            if output.argmax(1).item() == source_vocab[\"eos\"]:\n",
    "                break\n",
    "                \n",
    "    tranlated_sent = target_vocab.lookup_tokens(outputs)\n",
    "    return ' '.join(tranlated_sent[1:])\n"
   ]
  },
  {
   "cell_type": "code",
   "execution_count": 45,
   "id": "219ee13d",
   "metadata": {},
   "outputs": [
    {
     "name": "stdout",
     "output_type": "stream",
     "text": [
      "a woman in a red shirt and a a shirt is a a a . .\n"
     ]
    }
   ],
   "source": [
    "model = torch.load(\"ml_model.pt\")\n",
    "\n",
    "sentence = 'Eine Frau mit schwarzen Haaren in gestreiftem Oberteil steht vor ein paar Ständen.'\n",
    "print(translate_sentence(model, sentence))"
   ]
  },
  {
   "cell_type": "code",
   "execution_count": 36,
   "id": "9e648f16",
   "metadata": {},
   "outputs": [
    {
     "data": {
      "text/plain": [
       "('Eine Frau mit schwarzen Haaren in gestreiftem Oberteil steht vor ein paar Ständen.\\n',\n",
       " 'A woman in a striped shirt and black hair stands facing some booths.\\n')"
      ]
     },
     "execution_count": 36,
     "metadata": {},
     "output_type": "execute_result"
    }
   ],
   "source": [
    "train_dataset[600]"
   ]
  },
  {
   "cell_type": "markdown",
   "id": "528452f0",
   "metadata": {},
   "source": [
    "#### Reference\n",
    "1. https://github.com/bentrevett"
   ]
  }
 ],
 "metadata": {
  "kernelspec": {
   "display_name": "Python 3",
   "language": "python",
   "name": "python3"
  },
  "language_info": {
   "codemirror_mode": {
    "name": "ipython",
    "version": 3
   },
   "file_extension": ".py",
   "mimetype": "text/x-python",
   "name": "python",
   "nbconvert_exporter": "python",
   "pygments_lexer": "ipython3",
   "version": "3.8.8"
  }
 },
 "nbformat": 4,
 "nbformat_minor": 5
}
