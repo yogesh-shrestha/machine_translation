{
 "cells": [
  {
   "cell_type": "markdown",
   "id": "e609ebab",
   "metadata": {},
   "source": [
    "## Learning Phrase Representations using RNN Encoder-Decoder for Statistical Machine Translation"
   ]
  },
  {
   "cell_type": "code",
   "execution_count": 11,
   "id": "d08058d1",
   "metadata": {},
   "outputs": [],
   "source": [
    "import torch\n",
    "import torchtext\n",
    "import torch.nn as nn\n",
    "from torchtext.datasets import Multi30k\n",
    "from torchtext.data.utils import get_tokenizer\n",
    "from torchtext.vocab import build_vocab_from_iterator\n",
    "from torch.utils.data import DataLoader\n",
    "from torch.nn.utils.rnn import pad_sequence\n",
    "from torchtext.data import functional\n",
    "from torch import optim\n",
    "from tqdm import tqdm\n",
    "import sys\n",
    "import random\n",
    "import spacy"
   ]
  },
  {
   "cell_type": "markdown",
   "id": "72165b2a",
   "metadata": {},
   "source": [
    "### 1. Prepare Data\n",
    "\n",
    "#### Build Vocabulary for source and target languages"
   ]
  },
  {
   "cell_type": "code",
   "execution_count": 12,
   "id": "859c115e",
   "metadata": {},
   "outputs": [],
   "source": [
    "de_tokenizer = get_tokenizer('spacy', 'de_core_news_sm')\n",
    "en_tokenizer = get_tokenizer('spacy', 'en_core_web_sm')\n",
    "\n",
    "def de_yield_tokens(train_iter):\n",
    "    for de_text, _ in train_iter:\n",
    "        yield de_tokenizer(de_text[:-1].lower())\n",
    "        \n",
    "def en_yield_tokens(train_iter):\n",
    "    for _, en_text in train_iter:\n",
    "        yield en_tokenizer(en_text[:-1].lower())\n",
    "        \n",
    "special_tokens = [\"<unk>\", \"<pad>\", \"sos\", \"eos\"]\n",
    "\n",
    "train_iter = Multi30k(split=(\"train\"))\n",
    "source_vocab = build_vocab_from_iterator(de_yield_tokens(train_iter), \n",
    "                                         min_freq = 1,\n",
    "                                         specials = special_tokens)\n",
    "source_vocab.set_default_index(source_vocab[\"<unk>\"])\n",
    "\n",
    "train_iter = Multi30k(split=(\"train\"))\n",
    "target_vocab = build_vocab_from_iterator(en_yield_tokens(train_iter),\n",
    "                                        min_freq = 1,\n",
    "                                        specials = special_tokens)\n",
    "target_vocab.set_default_index(target_vocab[\"<unk>\"])"
   ]
  },
  {
   "cell_type": "markdown",
   "id": "75f8eb1a",
   "metadata": {},
   "source": [
    "#### Build Dataloader"
   ]
  },
  {
   "cell_type": "code",
   "execution_count": 13,
   "id": "c0a62eda",
   "metadata": {},
   "outputs": [],
   "source": [
    "# Load data\n",
    "train_iter, valid_iter, test_iter = Multi30k()\n",
    "\n",
    "en_text_pipeline = lambda x:  target_vocab([\"sos\"] + en_tokenizer(x)[:-1] + [\"eos\"]) \n",
    "de_text_pipeline = lambda x: source_vocab([\"sos\"] + de_tokenizer(x)[:-1] + [\"eos\"])\n",
    "\n",
    "BATCH_SIZE = 100\n",
    "\n",
    "def collate_batch_input(batch):\n",
    "    source_list, target_list = [], []\n",
    "    for source_text, target_text in batch:  \n",
    "        text_seq = de_text_pipeline(source_text.lower()) \n",
    "        source_list.append(torch.tensor(text_seq, dtype=torch.int64))\n",
    "        text_seq = en_text_pipeline(target_text.lower())\n",
    "        target_list.append(torch.tensor(text_seq[:-1], dtype=torch.int64))\n",
    "               \n",
    "    source_tensor = pad_sequence(source_list, batch_first=True, padding_value=source_vocab[\"<pad>\"])\n",
    "    target_tensor = pad_sequence(target_list, batch_first=True, padding_value=source_vocab[\"<pad>\"])\n",
    "    \n",
    "    return source_tensor, target_tensor, \n",
    "\n",
    "\n",
    "train_dataset = functional.to_map_style_dataset(train_iter)\n",
    "valid_dataset = functional.to_map_style_dataset(valid_iter)\n",
    "test_dataset = functional.to_map_style_dataset(test_iter)\n",
    "\n",
    "train_loader = DataLoader(train_dataset, batch_size = BATCH_SIZE,\n",
    "                          shuffle = True, collate_fn = collate_batch_input)\n",
    "valid_loader = DataLoader(valid_dataset, batch_size = BATCH_SIZE,\n",
    "                          shuffle=False, collate_fn = collate_batch_input)\n",
    "test_loader = DataLoader(test_dataset, batch_size = BATCH_SIZE,\n",
    "                          shuffle=False, collate_fn = collate_batch_input)"
   ]
  },
  {
   "cell_type": "markdown",
   "id": "4c126337",
   "metadata": {},
   "source": [
    "### 2. Define Model"
   ]
  },
  {
   "cell_type": "markdown",
   "id": "829dc3e0",
   "metadata": {},
   "source": [
    "#### Encoder\n",
    "\n",
    "<img src=\"img/seq2seq5.png\"/>"
   ]
  },
  {
   "cell_type": "code",
   "execution_count": 14,
   "id": "a551165c",
   "metadata": {},
   "outputs": [],
   "source": [
    "class Encoder(nn.Module):\n",
    "    def __init__(self, input_dim, embed_dim, hidden_dim, pad_idx):\n",
    "        super(Encoder, self).__init__()\n",
    "        self.embed_dim = embed_dim\n",
    "        self.hidden_dim = hidden_dim\n",
    "        self.embedding = nn.Embedding(input_dim, embed_dim, padding_idx = pad_idx)\n",
    "        self.gru = nn.GRU(embed_dim, hidden_dim, batch_first = True)\n",
    "        \n",
    "    def forward(self, src):\n",
    "        # src = [batch_size, src_len]\n",
    "        \n",
    "        embedded = self.embedding(src)\n",
    "        # embedded = [batch_size, src_len, embed_dim]\n",
    "        \n",
    "        output, hidden = self.gru(embedded)\n",
    "        # output = [batch_size, seq_len, hidden_dim]\n",
    "        # hidden = [1, batch_size, hidden_dim]\n",
    "        \n",
    "        return hidden"
   ]
  },
  {
   "cell_type": "markdown",
   "id": "dbeabc6a",
   "metadata": {},
   "source": [
    "### Decoder\n",
    "\n",
    "<img src=\"img/seq2seq6.png\"/>"
   ]
  },
  {
   "cell_type": "code",
   "execution_count": 15,
   "id": "89728150",
   "metadata": {},
   "outputs": [],
   "source": [
    "class Decoder(nn.Module):\n",
    "    def __init__(self, output_dim, embed_dim, hidden_dim, pad_index):\n",
    "        super(Decoder, self).__init__()\n",
    "        self.hidden_dim = hidden_dim\n",
    "        self.output_dim = output_dim\n",
    "        self.embedding = nn.Embedding(output_dim, embed_dim, padding_idx=pad_index)\n",
    "        self.gru = nn.GRU(embed_dim + hidden_dim, hidden_dim, batch_first=True)\n",
    "        self.fc = nn.Linear(embed_dim + hidden_dim*2, output_dim)\n",
    "        \n",
    "    def forward(self, input, hidden, context):\n",
    "        # input = [batch_size]\n",
    "        # hidden = [1, batch_size, hidden_dim]\n",
    "        # context = [1, batch_size, hidden_dim]\n",
    "        \n",
    "        input = input.unsqueeze(1)\n",
    "        # input = [batch_size, 1]\n",
    "        \n",
    "        embedded = self.embedding(input)\n",
    "        # embed = [batch_size, 1, embed_dim]     \n",
    "        \n",
    "        context = context.permute(1,0,2)\n",
    "        # embed = [batch_size, 1, embed_dim]\n",
    "                \n",
    "        embedded_context = torch.cat((embedded, context), dim=2)\n",
    "        # embedded_context = [batch_size, 1, hidden_dim + embed_dim]\n",
    "        \n",
    "        output, hidden = self.gru(embedded_context, hidden)\n",
    "        # output = [batch_size, 1, hidden_dim]\n",
    "        # hidden = [1, batch_size, hidden_dim]\n",
    "                \n",
    "        fc_input = torch.cat((embedded.squeeze(1), hidden.squeeze(0), context.squeeze(1)), dim=1)\n",
    "        # fc_input = [batch_size, embed_dim + hidden_dim + context_dim]\n",
    "               \n",
    "        fc_out = self.fc(fc_input.unsqueeze(1))\n",
    "        # fc_out = [batch_size, embed_dim + hidden_dim + context_dim]\n",
    "        \n",
    "        return fc_out, hidden"
   ]
  },
  {
   "cell_type": "markdown",
   "id": "6abb5160",
   "metadata": {},
   "source": [
    "### Seq2Seq\n",
    "\n",
    "<img src=\"img/seq2seq7.png\" />"
   ]
  },
  {
   "cell_type": "code",
   "execution_count": 16,
   "id": "a42d23bf",
   "metadata": {},
   "outputs": [],
   "source": [
    "class Seq2Seq(nn.Module):\n",
    "    def __init__(self, encoder, decoder):\n",
    "        super(Seq2Seq, self).__init__()\n",
    "        self.encoder = encoder\n",
    "        self.decoder = decoder\n",
    "        \n",
    "        assert encoder.hidden_dim == decoder.hidden_dim, \\\n",
    "            \"Hidden dimensions of encoder and decoder must be equal!\"\n",
    "        \n",
    "    def forward(self, src, trg, teacher_force_ratio = 0.5):\n",
    "        # src = [batch_size, src_len]\n",
    "        # trg = [batch_size, trg_len]\n",
    "        \n",
    "        batch_size = trg.shape[0]\n",
    "        trg_len = trg.shape[1]\n",
    "        trg_vocab_size = self.decoder.output_dim\n",
    "        \n",
    "        outputs = torch.zeros(batch_size, trg_len, trg_vocab_size)\n",
    "        \n",
    "        context = self.encoder(src)\n",
    "        hidden = context\n",
    "        input = trg[:, 0]\n",
    "        \n",
    "        for t in range(1, trg_len):\n",
    "            output, hidden = self.decoder(input, hidden, context)  \n",
    "            outputs[:, t, :] = output[:, 0, :]\n",
    "            best_guess = output.argmax(2).squeeze(1)\n",
    "            input = trg[:,t] if random.random() < teacher_force_ratio else best_guess\n",
    "            \n",
    "        return outputs"
   ]
  },
  {
   "cell_type": "code",
   "execution_count": 17,
   "id": "dcc4e16f",
   "metadata": {},
   "outputs": [],
   "source": [
    "INPUT_DIM = len(source_vocab)\n",
    "OUTPUT_DIM = len(target_vocab)\n",
    "EMBED_DIM = 50\n",
    "HIDDEN_DIM = 60\n",
    "\n",
    "src_pad_idx = source_vocab[\"<pad>\"]\n",
    "trg_pad_idx = target_vocab[\"<pad>\"]\n",
    "\n",
    "enc = Encoder(INPUT_DIM, EMBED_DIM, HIDDEN_DIM, src_pad_idx)\n",
    "dec = Decoder(OUTPUT_DIM, EMBED_DIM, HIDDEN_DIM, trg_pad_idx,)\n",
    "\n",
    "model = Seq2Seq(enc, dec)"
   ]
  },
  {
   "cell_type": "code",
   "execution_count": 18,
   "id": "ba6e9c6c",
   "metadata": {},
   "outputs": [
    {
     "name": "stdout",
     "output_type": "stream",
     "text": [
      "The model has 3,149,265 trainable parameters\n"
     ]
    }
   ],
   "source": [
    "# Calculate the number of trainable parameters in the model\n",
    "def count_parameters(model):\n",
    "    return sum(p.numel() for p in model.parameters() if p.requires_grad)\n",
    "\n",
    "print(f'The model has {count_parameters(model):,} trainable parameters')"
   ]
  },
  {
   "cell_type": "code",
   "execution_count": 19,
   "id": "5ce51b53",
   "metadata": {},
   "outputs": [],
   "source": [
    "def train(model, dataloader):\n",
    "    model.train()\n",
    "    epoch_loss = 0\n",
    "    \n",
    "    for src, trg in tqdm(dataloader, desc='training...', file=sys.stdout):\n",
    "        optimizer.zero_grad()\n",
    "        \n",
    "        output = model(src, trg)\n",
    "        \n",
    "        output_dim = output.shape[-1]\n",
    "\n",
    "        output = output.reshape(-1, output_dim)\n",
    "        trg = trg.reshape(-1)\n",
    "        \n",
    "        loss = criterion(output, trg)\n",
    "        \n",
    "        loss.backward()\n",
    "\n",
    "        torch.nn.utils.clip_grad_norm_(model.parameters(), 1.0)\n",
    "\n",
    "        optimizer.step()\n",
    "\n",
    "        epoch_loss += loss.item()\n",
    "    \n",
    "    return epoch_loss/len(dataloader)\n",
    "\n",
    "\n",
    "def evaluate(model, dataloader):\n",
    "    model.eval()\n",
    "    epoch_loss = 0\n",
    "    \n",
    "    with torch.no_grad():\n",
    "        for src, trg in dataloader:\n",
    "            output = model(src, trg)\n",
    "            output_dim = output.shape[-1]\n",
    "            output = output.reshape(-1, output_dim)\n",
    "            trg = trg.reshape(-1)\n",
    "            loss = criterion(output, trg)\n",
    "            epoch_loss += loss.item()\n",
    "    return epoch_loss/len(dataloader)  "
   ]
  },
  {
   "cell_type": "code",
   "execution_count": 20,
   "id": "81eb879d",
   "metadata": {},
   "outputs": [
    {
     "name": "stdout",
     "output_type": "stream",
     "text": [
      "training...: 100%|███████████████████████████████████████████████████████████████████| 290/290 [11:50<00:00,  2.45s/it]\n",
      "| Epoch: 1/10 | Train Loss: 5.838485459623666 | Val Loss: 5.255523508245295\n",
      "training...: 100%|███████████████████████████████████████████████████████████████████| 290/290 [11:49<00:00,  2.45s/it]\n",
      "| Epoch: 2/10 | Train Loss: 5.09617817155246 | Val Loss: 4.961202448064631\n",
      "training...: 100%|███████████████████████████████████████████████████████████████████| 290/290 [11:41<00:00,  2.42s/it]\n",
      "| Epoch: 3/10 | Train Loss: 4.807755406149503 | Val Loss: 4.770119883797386\n",
      "training...: 100%|███████████████████████████████████████████████████████████████████| 290/290 [12:00<00:00,  2.48s/it]\n",
      "| Epoch: 4/10 | Train Loss: 4.598086210777019 | Val Loss: 4.55740534175526\n",
      "training...: 100%|███████████████████████████████████████████████████████████████████| 290/290 [12:40<00:00,  2.62s/it]\n",
      "| Epoch: 5/10 | Train Loss: 4.426855216355159 | Val Loss: 4.407356782393022\n",
      "training...: 100%|███████████████████████████████████████████████████████████████████| 290/290 [13:16<00:00,  2.75s/it]\n",
      "| Epoch: 6/10 | Train Loss: 4.2830094090823465 | Val Loss: 4.364809946580366\n",
      "training...: 100%|███████████████████████████████████████████████████████████████████| 290/290 [13:45<00:00,  2.85s/it]\n",
      "| Epoch: 7/10 | Train Loss: 4.170202181257051 | Val Loss: 4.329667048020796\n",
      "training...: 100%|███████████████████████████████████████████████████████████████████| 290/290 [13:08<00:00,  2.72s/it]\n",
      "| Epoch: 8/10 | Train Loss: 4.079405225556473 | Val Loss: 4.254682172428478\n",
      "training...: 100%|███████████████████████████████████████████████████████████████████| 290/290 [13:59<00:00,  2.89s/it]\n",
      "| Epoch: 9/10 | Train Loss: 3.997355843412465 | Val Loss: 4.230109171433882\n",
      "training...: 100%|███████████████████████████████████████████████████████████████████| 290/290 [14:00<00:00,  2.90s/it]\n",
      "| Epoch: 10/10 | Train Loss: 3.905390451694357 | Val Loss: 4.2185658324848525\n",
      "============================================================\n",
      "4.211989259719848\n"
     ]
    }
   ],
   "source": [
    "N_EPOCHS = 10\n",
    "\n",
    "optimizer = optim.Adam(model.parameters())\n",
    "criterion = nn.CrossEntropyLoss(ignore_index = trg_pad_idx)\n",
    "\n",
    "for epoch in range(1, N_EPOCHS+1):\n",
    "    train_loss = train(model, train_loader)\n",
    "    val_loss = evaluate(model, valid_loader)\n",
    "    print(f\"| Epoch: {epoch}/{N_EPOCHS} | Train Loss: {train_loss} | Val Loss: {val_loss}\")\n",
    "    \n",
    "eval_loss = evaluate(model, test_loader)\n",
    "print(\"=\"*60)\n",
    "print(eval_loss)    \n",
    "\n",
    "torch.save(model, \"ml_model_2.pt\")"
   ]
  },
  {
   "cell_type": "code",
   "execution_count": 75,
   "id": "9c5cdd71",
   "metadata": {},
   "outputs": [],
   "source": [
    "def translate_sentence(model, sentence):\n",
    "    model.eval()\n",
    "    tokens = [\"sos\"] + de_tokenizer(sentence.lower()) + [\"eos\"]\n",
    "    sequence = source_vocab(tokens)\n",
    "    sent_tensor = torch.LongTensor(sequence).unsqueeze(0)\n",
    "    \n",
    "    with torch.no_grad():\n",
    "        hidden = model.encoder(sent_tensor)\n",
    "        context = hidden\n",
    "        \n",
    "    outputs = target_vocab([\"sos\"])\n",
    "        \n",
    "    for _ in range(len(sequence)):\n",
    "        previous_word = torch.LongTensor([outputs[-1]])\n",
    "        \n",
    "        with torch.no_grad():\n",
    "            output, hidden = model.decoder(previous_word, hidden, context)\n",
    "            best_guess = output.argmax(2).item()\n",
    "            outputs.append(best_guess)\n",
    "            if output.argmax(2).item() == source_vocab[\"<eos>\"]:\n",
    "                break\n",
    "                \n",
    "    tranlated_sent = target_vocab.lookup_tokens(outputs)\n",
    "    return ' '.join(tranlated_sent[1:])"
   ]
  },
  {
   "cell_type": "code",
   "execution_count": 76,
   "id": "14723ce3",
   "metadata": {},
   "outputs": [
    {
     "name": "stdout",
     "output_type": "stream",
     "text": [
      "a little girl in a pink shirt is holding her head on the ground .\n"
     ]
    }
   ],
   "source": [
    "sentence = 'Ein kleines Mädchen in Rosa tanzt mit den Händen auf den Hüften.'\n",
    "print(translate_sentence(model, sentence))"
   ]
  },
  {
   "cell_type": "code",
   "execution_count": 71,
   "id": "46a04a0a",
   "metadata": {},
   "outputs": [
    {
     "data": {
      "text/plain": [
       "('Ein kleines Mädchen in Rosa tanzt mit den Händen auf den Hüften.\\n',\n",
       " 'A little girl in pink dances with her hands on her hips.\\n')"
      ]
     },
     "execution_count": 71,
     "metadata": {},
     "output_type": "execute_result"
    }
   ],
   "source": [
    "train_dataset[655]"
   ]
  },
  {
   "cell_type": "markdown",
   "id": "c9c2436b",
   "metadata": {},
   "source": [
    "#### Reference\n",
    "1. https://github.com/bentrevett"
   ]
  }
 ],
 "metadata": {
  "kernelspec": {
   "display_name": "Python 3",
   "language": "python",
   "name": "python3"
  },
  "language_info": {
   "codemirror_mode": {
    "name": "ipython",
    "version": 3
   },
   "file_extension": ".py",
   "mimetype": "text/x-python",
   "name": "python",
   "nbconvert_exporter": "python",
   "pygments_lexer": "ipython3",
   "version": "3.8.8"
  }
 },
 "nbformat": 4,
 "nbformat_minor": 5
}
